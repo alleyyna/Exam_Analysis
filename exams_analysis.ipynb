{
 "cells": [
  {
   "cell_type": "markdown",
   "id": "7b9b974f",
   "metadata": {},
   "source": [
    "exam.csv isimli veri seti kaggle üzerinden çekilmiştir.Bu veri setinde öğrencilerin matematik, okuma ve yazma puanları; cinsiyet, öğle yemeği (ücretli mi, ücretsiz mi) gibi bilgileri veren kolonlar vardır. Bu çalışmada öğrencilerin sınav puanlarının, cinsiyetle ve öğle yemeği ile ilişkileri incelenmiştir.\n",
    "\n",
    "Aleyna Yıldıztaş\n",
    "Yönetim Bilişim Sistemleri"
   ]
  },
  {
   "cell_type": "code",
   "execution_count": null,
   "id": "aad21f26",
   "metadata": {},
   "outputs": [],
   "source": [
    "import pandas as pd\n",
    "import numpy as np\n",
    "from sklearn import preprocessing\n",
    "import matplotlib.pyplot as plt\n",
    "plt.rc(\"font\", size=14)\n",
    "from sklearn.linear_model import LogisticRegression\n",
    "from sklearn.model_selection import train_test_split\n",
    "import seaborn as sns"
   ]
  },
  {
   "cell_type": "code",
   "execution_count": null,
   "id": "53c044b3",
   "metadata": {},
   "outputs": [],
   "source": [
    "df= pd.read_csv(\"exams.csv\")"
   ]
  },
  {
   "cell_type": "code",
   "execution_count": null,
   "id": "245efd29",
   "metadata": {
    "scrolled": true
   },
   "outputs": [],
   "source": [
    "df\n"
   ]
  },
  {
   "cell_type": "code",
   "execution_count": null,
   "id": "09b0fffc",
   "metadata": {},
   "outputs": [],
   "source": [
    "df.info()"
   ]
  },
  {
   "cell_type": "code",
   "execution_count": null,
   "id": "6f69ec60",
   "metadata": {},
   "outputs": [],
   "source": [
    "df.columns = [\"gender\",\"race/ethnicity\",\"parental level of education\",\"lunch\",\"test preparation course\",\"math_score\",\"reading_score\",\"writing_score\"]"
   ]
  },
  {
   "cell_type": "code",
   "execution_count": null,
   "id": "ec8c01d0",
   "metadata": {},
   "outputs": [],
   "source": [
    "df.columns"
   ]
  },
  {
   "cell_type": "code",
   "execution_count": null,
   "id": "b0bf5ee4",
   "metadata": {},
   "outputs": [],
   "source": [
    "numeric_columns = ['math_score', 'reading_score', 'writing_score']\n",
    "non_numeric_columns = ['gender', 'race/ethnicity', 'parental level of education', 'lunch',\n",
    "       'test preparation course']"
   ]
  },
  {
   "cell_type": "code",
   "execution_count": null,
   "id": "87c37b74",
   "metadata": {
    "scrolled": true
   },
   "outputs": [],
   "source": [
    "df.isnull().sum()"
   ]
  },
  {
   "cell_type": "code",
   "execution_count": null,
   "id": "284b3e3a",
   "metadata": {
    "scrolled": true
   },
   "outputs": [],
   "source": [
    "df.duplicated().sum()"
   ]
  },
  {
   "cell_type": "code",
   "execution_count": null,
   "id": "cb0df1c7",
   "metadata": {},
   "outputs": [],
   "source": [
    "df.drop_duplicates(subset = None, keep = \"first\",inplace = True,ignore_index = False)"
   ]
  },
  {
   "cell_type": "code",
   "execution_count": null,
   "id": "b0d3b82a",
   "metadata": {},
   "outputs": [],
   "source": [
    "df.duplicated().sum()"
   ]
  },
  {
   "cell_type": "code",
   "execution_count": null,
   "id": "3be86f08",
   "metadata": {
    "scrolled": true
   },
   "outputs": [],
   "source": [
    "df[numeric_columns].describe()"
   ]
  },
  {
   "cell_type": "code",
   "execution_count": null,
   "id": "780fdf33",
   "metadata": {
    "scrolled": true
   },
   "outputs": [],
   "source": [
    "df[non_numeric_columns].describe(include = object)"
   ]
  },
  {
   "cell_type": "code",
   "execution_count": null,
   "id": "a827bd6d",
   "metadata": {},
   "outputs": [],
   "source": [
    "sns.pairplot(df, hue = \"gender\" )\n",
    "plt.show()"
   ]
  },
  {
   "cell_type": "code",
   "execution_count": null,
   "id": "8b7c5753",
   "metadata": {
    "scrolled": true
   },
   "outputs": [],
   "source": [
    "plt.pie(df['gender'].value_counts(), labels = ['male', 'female'],autopct='%1.1f%%', colors = (\"#0984e3\",\"#81ecec\"))\n",
    "plt.title('Gender Rate')\n",
    "plt.show()"
   ]
  },
  {
   "cell_type": "code",
   "execution_count": null,
   "id": "812e0060",
   "metadata": {
    "scrolled": true
   },
   "outputs": [],
   "source": [
    "sns.pairplot(df, hue = \"lunch\" )\n",
    "plt.show()"
   ]
  },
  {
   "cell_type": "code",
   "execution_count": null,
   "id": "ecfc893c",
   "metadata": {
    "scrolled": true
   },
   "outputs": [],
   "source": [
    "plt.pie(df['lunch'].value_counts(), labels = ['standart', 'free/reduced'],colors =('#ff7675','#fab1a0'),autopct='%1.1f%%')\n",
    "plt.title('Lunch Rate')\n",
    "plt.show()"
   ]
  },
  {
   "cell_type": "code",
   "execution_count": null,
   "id": "aa7765cb",
   "metadata": {
    "scrolled": false
   },
   "outputs": [],
   "source": [
    "sns.pairplot(df, hue = \"parental level of education\")\n",
    "plt.show()"
   ]
  },
  {
   "cell_type": "code",
   "execution_count": null,
   "id": "c46fe976",
   "metadata": {},
   "outputs": [],
   "source": [
    "df[numeric_columns].describe()"
   ]
  },
  {
   "cell_type": "markdown",
   "id": "60d1c41f",
   "metadata": {},
   "source": [
    "matematik okuma ve yazma puanlarında ortalama - max ve min değerleri ile başarılı - geliştirmeli - başarısız bilgisini veren kolonlar eklemek mantıklı olacaktır."
   ]
  },
  {
   "cell_type": "code",
   "execution_count": null,
   "id": "5fb03e55",
   "metadata": {
    "scrolled": false
   },
   "outputs": [],
   "source": [
    "def mathsuccess(x):\n",
    "    if (x > 80) :\n",
    "        return(\"succesful\")\n",
    "    \n",
    "    elif(66 < x <80) :\n",
    "        return(\"to improve\")\n",
    "    else:\n",
    "        return(\"unsuccessful\")\n",
    "\n",
    "df[\"math_success_scala\"] = df.apply(lambda x: mathsuccess(x[\"math_score\"]), axis = 1)\n",
    "print(df)\n"
   ]
  },
  {
   "cell_type": "code",
   "execution_count": null,
   "id": "367d504a",
   "metadata": {},
   "outputs": [],
   "source": [
    "def writingsuccess(x):\n",
    "    if (x > 80) :\n",
    "        return(\"succesful\")\n",
    "    \n",
    "    elif(67 < x <80) :\n",
    "        return(\"to improve\")\n",
    "    else:\n",
    "        return(\"unsuccessful\")\n",
    "\n",
    "df[\"writing_success_scala\"] = df.apply(lambda x: writingsuccess(x[\"writing_score\"]), axis = 1)\n",
    "print(df)\n"
   ]
  },
  {
   "cell_type": "code",
   "execution_count": null,
   "id": "f510d345",
   "metadata": {
    "scrolled": true
   },
   "outputs": [],
   "source": [
    "def readingsuccess(x):\n",
    "    if (x > 80) :\n",
    "        return(\"succesful\")\n",
    "    \n",
    "    elif(69 < x <80) :\n",
    "        return(\"to improve\")\n",
    "    else:\n",
    "        return(\"unsuccessful\")\n",
    "\n",
    "df[\"reading_success_scala\"] = df.apply(lambda x: readingsuccess(x[\"reading_score\"]), axis = 1)\n",
    "print(df)"
   ]
  },
  {
   "cell_type": "code",
   "execution_count": null,
   "id": "30608d2a",
   "metadata": {
    "scrolled": false
   },
   "outputs": [],
   "source": [
    "\n",
    "plt.pie(df['math_success_scala'].value_counts(), labels = ['successful', 'to improve','unsuccessful'],colors =('#00b894','#55efc4','#9AECDB'),autopct='%1.1f%%')\n",
    "plt.title('Math Succes Rate')\n",
    "plt.show()"
   ]
  },
  {
   "cell_type": "code",
   "execution_count": null,
   "id": "858ab66e",
   "metadata": {},
   "outputs": [],
   "source": [
    "plt.pie(df['writing_success_scala'].value_counts(), labels = ['successful', 'to improve','unsuccessful'],colors =('#0984e3','#74b9ff','#81ecec'),autopct='%1.1f%%')\n",
    "plt.title('Writing Succes Rate')\n",
    "plt.show()"
   ]
  },
  {
   "cell_type": "code",
   "execution_count": null,
   "id": "dee0307e",
   "metadata": {
    "scrolled": true
   },
   "outputs": [],
   "source": [
    "plt.pie(df['reading_success_scala'].value_counts(), labels = ['successful', 'to improve','unsuccessful'],colors =('#fed330','#ffda79','#ffeaa7'),autopct='%1.1f%%')\n",
    "plt.title('Reading Succes Rate')\n",
    "plt.show()"
   ]
  },
  {
   "cell_type": "markdown",
   "id": "8d196c7e",
   "metadata": {},
   "source": [
    "Grafikte görüldüğü gibi öğrencilerin okuma ve yazma başarı oranları birbirine oldukça yakındır.Matematik başarısında ise öğrencilerin yarısından çoğu iyi düzeyde olmakla birlikte geliştirmeli skalasında daha çok öğrenci bulunmaktadır."
   ]
  },
  {
   "cell_type": "code",
   "execution_count": null,
   "id": "8157c4a5",
   "metadata": {
    "scrolled": true
   },
   "outputs": [],
   "source": [
    "plt.figure(figsize=(12,8))\n",
    "sns.scatterplot(data=df, x=\"math_score\",y =\"writing_score\" ,hue = \"lunch\",palette =(\"#ff7675\",\"#fab1a0\"))\n",
    "plt.title(\"Math Score and writing Score - Lunch\")"
   ]
  },
  {
   "cell_type": "code",
   "execution_count": null,
   "id": "652202ec",
   "metadata": {
    "scrolled": false
   },
   "outputs": [],
   "source": [
    "plt.figure(figsize=(12,8))\n",
    "sns.scatterplot(data=df, x=\"writing_score\",y =\"reading_score\" ,hue = \"lunch\",palette =(\"#ff7675\",\"#fab1a0\"))\n",
    "plt.title(\"Writing Score and Reading Score - Lunch\")"
   ]
  },
  {
   "cell_type": "code",
   "execution_count": null,
   "id": "ebf8886d",
   "metadata": {
    "scrolled": false
   },
   "outputs": [],
   "source": [
    "plt.figure(figsize=(12,8))\n",
    "sns.scatterplot(data=df, x=\"writing_score\",y =\"reading_score\" ,hue = \"parental level of education\",palette =(\"#fdcb6e\",\"#ff7675\",\"#00cec9\",\"#81ecec\",\"#0984e3\",\"#636e72\"))\n",
    "plt.title(\"Writing Score and Reading Score - parental level of education\")"
   ]
  },
  {
   "cell_type": "code",
   "execution_count": null,
   "id": "db47f156",
   "metadata": {
    "scrolled": true
   },
   "outputs": [],
   "source": [
    "plt.figure(figsize=(12,8))\n",
    "sns.scatterplot(data=df, x=\"math_score\",y =\"writing_score\" ,hue = \"parental level of education\",palette =(\"#fdcb6e\",\"#ff7675\",\"#00cec9\",\"#81ecec\",\"#0984e3\",\"#636e72\"))\n",
    "plt.title(\"Math Score and Writing Score - parental level of education\")"
   ]
  },
  {
   "cell_type": "code",
   "execution_count": null,
   "id": "ed1905d5",
   "metadata": {
    "scrolled": true
   },
   "outputs": [],
   "source": [
    "df[numeric_columns]"
   ]
  },
  {
   "cell_type": "code",
   "execution_count": null,
   "id": "ddcaeddf",
   "metadata": {
    "scrolled": true
   },
   "outputs": [],
   "source": [
    "for i in numeric_columns:\n",
    "  fig,ax = plt.subplots(figsize=(10,8))\n",
    "  ax = sns.distplot(df[i], color = \"#0984e3\")\n",
    "  ax.set_title(i+' Distribution')\n",
    "  plt.show()"
   ]
  },
  {
   "cell_type": "code",
   "execution_count": null,
   "id": "316474e6",
   "metadata": {},
   "outputs": [],
   "source": [
    "plt.figure(figsize=(16, 6))\n",
    "sns.heatmap(df[numeric_columns].corr().round(2), cmap=\"YlGnBu\", annot=True)\n",
    "\n",
    "plt.show()"
   ]
  },
  {
   "cell_type": "code",
   "execution_count": null,
   "id": "e77828f5",
   "metadata": {},
   "outputs": [],
   "source": [
    "for i in numeric_columns:\n",
    " fig,ax = plt.subplots(figsize=(12,8))\n",
    " ax = sns.boxplot(data = df[i], color = \"#0984e3\")\n",
    " ax.set_title(i+ ' ' + 'Boxplot')\n",
    " plt.show()\n"
   ]
  },
  {
   "cell_type": "code",
   "execution_count": null,
   "id": "8de5669e",
   "metadata": {
    "scrolled": false
   },
   "outputs": [],
   "source": [
    "df.isnull().sum()"
   ]
  },
  {
   "cell_type": "code",
   "execution_count": null,
   "id": "b033a0e4",
   "metadata": {
    "scrolled": true
   },
   "outputs": [],
   "source": [
    "df[numeric_columns].describe()"
   ]
  },
  {
   "cell_type": "code",
   "execution_count": null,
   "id": "812d6a1c",
   "metadata": {
    "scrolled": false
   },
   "outputs": [],
   "source": [
    "df"
   ]
  },
  {
   "cell_type": "markdown",
   "id": "126d7347",
   "metadata": {},
   "source": [
    "kategorik veri tipindeki cinsiyet kolonunu numeric hale çevirerek model kullanımı için veriyi hazırlıyoruz. "
   ]
  },
  {
   "cell_type": "code",
   "execution_count": null,
   "id": "82e62989",
   "metadata": {},
   "outputs": [],
   "source": [
    "df.loc[:,'gender'] = [1 if each == 'female' else 0 for each in df.loc[:,'gender'] ]\n",
    "Labels = df.loc[:,'gender']\n",
    "\n",
    "x = df.drop(['gender'],axis = 1)\n",
    "\n",
    "# gender = 0 = male\n",
    "# gender = 1 = female"
   ]
  },
  {
   "cell_type": "code",
   "execution_count": null,
   "id": "e111c42c",
   "metadata": {
    "scrolled": false
   },
   "outputs": [],
   "source": [
    "df"
   ]
  },
  {
   "cell_type": "markdown",
   "id": "c7a99c0b",
   "metadata": {},
   "source": [
    "Model seçimi : KNN Classifier "
   ]
  },
  {
   "cell_type": "code",
   "execution_count": null,
   "id": "431115aa",
   "metadata": {},
   "outputs": [],
   "source": [
    "from sklearn.neighbors import KNeighborsClassifier\n",
    "knn = KNeighborsClassifier() "
   ]
  },
  {
   "cell_type": "markdown",
   "id": "67fa22c6",
   "metadata": {},
   "source": [
    "kullanılacak verileri hazırlıyoruz."
   ]
  },
  {
   "cell_type": "code",
   "execution_count": null,
   "id": "73ec2941",
   "metadata": {},
   "outputs": [],
   "source": [
    "X = df[[\"math_score\",\"reading_score\",\"writing_score\"]]\n",
    "y = df[\"gender\"]"
   ]
  },
  {
   "cell_type": "markdown",
   "id": "19c0cc9a",
   "metadata": {},
   "source": [
    "veriyi train ve test olarak ayırıyoruz."
   ]
  },
  {
   "cell_type": "code",
   "execution_count": null,
   "id": "e1fb8d13",
   "metadata": {},
   "outputs": [],
   "source": [
    "from sklearn.model_selection import train_test_split\n",
    "X_train,X_test, y_train, y_test = train_test_split(X, y, test_size=0.25,random_state=21, stratify=y)"
   ]
  },
  {
   "cell_type": "markdown",
   "id": "f150e7f6",
   "metadata": {},
   "source": [
    "Normalizasyon ve standardizasyon işlemleri:"
   ]
  },
  {
   "cell_type": "code",
   "execution_count": null,
   "id": "2b6aaec6",
   "metadata": {},
   "outputs": [],
   "source": [
    "from sklearn.preprocessing import MinMaxScaler\n",
    "scaler = MinMaxScaler(feature_range=(0, 1))\n",
    "\n",
    "X_train_scaled = scaler.fit_transform(X_train)\n",
    "X_train = pd.DataFrame(X_train_scaled)\n",
    "\n",
    "X_test_scaled = scaler.fit_transform(X_test)\n",
    "X_test = pd.DataFrame(X_test_scaled)"
   ]
  },
  {
   "cell_type": "code",
   "execution_count": null,
   "id": "25be34f1",
   "metadata": {
    "scrolled": true
   },
   "outputs": [],
   "source": [
    "from sklearn.neighbors import KNeighborsClassifier\n",
    "knn = KNeighborsClassifier() "
   ]
  },
  {
   "cell_type": "code",
   "execution_count": null,
   "id": "4027cf04",
   "metadata": {
    "scrolled": true
   },
   "outputs": [],
   "source": [
    "knn.fit(X_train, y_train) "
   ]
  },
  {
   "cell_type": "markdown",
   "id": "271ecc7e",
   "metadata": {},
   "source": [
    "modelimizin test skoru:"
   ]
  },
  {
   "cell_type": "code",
   "execution_count": null,
   "id": "5ce393ee",
   "metadata": {},
   "outputs": [],
   "source": [
    "training_data_prediction_score = knn.score(X_train, y_train)\n",
    "test_data_prediction_score = knn.score(X_test, y_test)\n",
    "print(training_data_prediction_score,test_data_prediction_score)"
   ]
  },
  {
   "cell_type": "markdown",
   "id": "8ae8940f",
   "metadata": {},
   "source": [
    "optimal k değerini bulmak için 1-20 aralığında k değerleri denenir."
   ]
  },
  {
   "cell_type": "code",
   "execution_count": null,
   "id": "bc2dadf2",
   "metadata": {},
   "outputs": [],
   "source": [
    "train_accuracies = []\n",
    "test_accuracies = []\n",
    "neighbors = np.arange(1, 20)\n",
    "\n",
    "for i, k in enumerate(neighbors):\n",
    "    knn = KNeighborsClassifier(n_neighbors=k)\n",
    "    knn.fit(X_train, y_train)\n",
    "    train_accuracies.append(knn.score(X_train, y_train))\n",
    "    test_accuracies.append(knn.score(X_test, y_test))"
   ]
  },
  {
   "cell_type": "code",
   "execution_count": null,
   "id": "6a5ea6bb",
   "metadata": {
    "scrolled": true
   },
   "outputs": [],
   "source": [
    "\n",
    "plt.figure(figsize=(12, 8))\n",
    "plt.title(\"KNN: Varying Number of Neighbors\")\n",
    "plt.plot(neighbors, train_accuracies, label=\"Training Accuracy\")\n",
    "plt.plot(neighbors, test_accuracies, label=\"Testing Accuracy\")\n",
    "plt.legend()\n",
    "plt.xlabel(\"Number of Neighbors\")\n",
    "plt.ylabel(\"Accuracy\")\n",
    "plt.xticks(neighbors)\n",
    "plt.savefig('graph.png')\n",
    "plt.show()\n",
    "print(\"Best accuracy is {} with K = {}\".format(np.max(test_accuracies),1+test_accuracies.index(np.max(test_accuracies))))"
   ]
  },
  {
   "cell_type": "markdown",
   "id": "3a43b7cb",
   "metadata": {},
   "source": [
    "optimal k değeri 11 bulundu."
   ]
  },
  {
   "cell_type": "code",
   "execution_count": null,
   "id": "5ff27c11",
   "metadata": {},
   "outputs": [],
   "source": [
    "knn_tuned = KNeighborsClassifier(n_neighbors=11)\n",
    "knn_tuned.fit(X_train, y_train)"
   ]
  },
  {
   "cell_type": "code",
   "execution_count": null,
   "id": "e4a0d0de",
   "metadata": {
    "scrolled": true
   },
   "outputs": [],
   "source": [
    "train_score = knn_tuned.score(X_train, y_train)\n",
    "print(train_score)\n",
    "test_score = knn_tuned.score(X_test, y_test)\n",
    "print(test_score)"
   ]
  },
  {
   "cell_type": "code",
   "execution_count": null,
   "id": "7d34f246",
   "metadata": {},
   "outputs": [],
   "source": [
    "X"
   ]
  },
  {
   "cell_type": "code",
   "execution_count": null,
   "id": "1fd397f0",
   "metadata": {},
   "outputs": [],
   "source": [
    "new_Students_scores = pd.DataFrame([[45,30,20],[85,100,95]], columns = X_train.columns ,index = [\"student_1\",\"student_2\"])"
   ]
  },
  {
   "cell_type": "code",
   "execution_count": null,
   "id": "ecb19837",
   "metadata": {},
   "outputs": [],
   "source": [
    "new_Students_scores"
   ]
  },
  {
   "cell_type": "code",
   "execution_count": null,
   "id": "3b0aab9f",
   "metadata": {},
   "outputs": [],
   "source": [
    "X_new = np.array([[45,30,20],[85,100,95]])\n",
    "print(X_new.shape)"
   ]
  },
  {
   "cell_type": "code",
   "execution_count": null,
   "id": "99b866b6",
   "metadata": {},
   "outputs": [],
   "source": [
    "predictions = knn_tuned.predict(X_new)\n",
    "print('Predictions: {}'.format(predictions))"
   ]
  },
  {
   "cell_type": "code",
   "execution_count": null,
   "id": "a1591cb1",
   "metadata": {},
   "outputs": [],
   "source": []
  }
 ],
 "metadata": {
  "kernelspec": {
   "display_name": "Python 3 (ipykernel)",
   "language": "python",
   "name": "python3"
  },
  "language_info": {
   "codemirror_mode": {
    "name": "ipython",
    "version": 3
   },
   "file_extension": ".py",
   "mimetype": "text/x-python",
   "name": "python",
   "nbconvert_exporter": "python",
   "pygments_lexer": "ipython3",
   "version": "3.9.7"
  }
 },
 "nbformat": 4,
 "nbformat_minor": 5
}
